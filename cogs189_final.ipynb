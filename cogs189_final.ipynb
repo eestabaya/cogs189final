{
 "cells": [
  {
   "cell_type": "code",
   "execution_count": 1,
   "id": "7775a592",
   "metadata": {},
   "outputs": [],
   "source": [
    "import pandas as pd\n",
    "import numpy as np\n",
    "from sklearn.preprocessing import MinMaxScaler\n",
    "import seaborn as sns\n",
    "from scipy.stats import f_oneway, kruskal, ttest_1samp, ttest_rel, wilcoxon\n"
   ]
  },
  {
   "cell_type": "markdown",
   "id": "fda98e16",
   "metadata": {},
   "source": [
    "# Data cleaning & merging"
   ]
  },
  {
   "cell_type": "markdown",
   "id": "5d3b8edc",
   "metadata": {},
   "source": [
    "The subject_list is a list which includes all the subject names and their trials e.g. Eric01, Amy02."
   ]
  },
  {
   "cell_type": "code",
   "execution_count": 3,
   "id": "5930365f",
   "metadata": {},
   "outputs": [
    {
     "data": {
      "text/plain": [
       "27"
      ]
     },
     "execution_count": 3,
     "metadata": {},
     "output_type": "execute_result"
    }
   ],
   "source": [
    "len(subject_list)"
   ]
  },
  {
   "cell_type": "code",
   "execution_count": 4,
   "id": "39b15750",
   "metadata": {},
   "outputs": [],
   "source": [
    "def merge_df(subjects):\n",
    "    df_list = []\n",
    "    \n",
    "    for name in subjects:\n",
    "        #print(name)\n",
    "        # read useful columns from csv\n",
    "        df_eeg = pd.read_csv('eeg/eeg_{}.csv'.format(name), usecols = ['time_norm', 'attention'])\n",
    "        \n",
    "        df_exp = pd.read_csv('exp/{}_exp.csv'.format(name), usecols = ['wordItem', 'key_res.corr', \n",
    "                                                             'key_res.rt', 'text_started_norm',\n",
    "                                                             'letter_started_norm', 'trial_end_norm'])\n",
    "        \n",
    "        # exclude the two trials with vowels\n",
    "        df_exp = df_exp.drop(df_exp[(df_exp['wordItem'] == 'THEJNP') | (df_exp['wordItem'] == 'NLTUF')].index)\n",
    "        \n",
    "        # drop na rows (break between blocks)\n",
    "        df_exp = df_exp.dropna().reset_index(drop = True)\n",
    "        \n",
    "        # extract the corresponding mean attention for each trail from eeg data\n",
    "        # based on the time stamp from both data\n",
    "        df_exp['mean_attention'] = df_exp.apply(\n",
    "            lambda x: df_eeg[(df_eeg['time_norm'] <= x.letter_started_norm) & \n",
    "                             (df_eeg['time_norm'] >= x.text_started_norm)]['attention'].mean(), \n",
    "            axis = 1)\n",
    "        \n",
    "        # normalize the attention to avoid individual differences\n",
    "        scalar = MinMaxScaler()\n",
    "        scalar.fit(np.array(df_exp['mean_attention']).reshape(-1,1))\n",
    "        df_exp['attention_norm'] = scalar.transform(np.array(df_exp['mean_attention']).reshape(-1,1)) * 100\n",
    "        \n",
    "        # get the meomory set length\n",
    "        df_exp['set_length'] = df_exp['wordItem'].apply(len)\n",
    "        # divide the dataset into low memory load vs high memory load\n",
    "        df_exp['2_groups'] = df_exp['set_length'].apply(lambda x: 'low' if x <= 3 else 'high')\n",
    "        # divide the dataset into low vs medium vs high memory load\n",
    "        df_exp['3_groups'] = df_exp['set_length'].apply(lambda x: 'low' if x <= 3 else ('medium' if x <= 4 else 'high'))\n",
    "        \n",
    "        df_list.append(df_exp)\n",
    "        \n",
    "    return df_list       "
   ]
  },
  {
   "cell_type": "code",
   "execution_count": 5,
   "id": "4445ce98",
   "metadata": {},
   "outputs": [],
   "source": [
    "processed_df = merge_df(subject_list)"
   ]
  },
  {
   "cell_type": "markdown",
   "id": "44b62400",
   "metadata": {},
   "source": [
    "# Two-sample paired t-test between low vs high across subjects"
   ]
  },
  {
   "cell_type": "code",
   "execution_count": 6,
   "id": "27d4bc5e",
   "metadata": {},
   "outputs": [],
   "source": [
    "mean_low_list = []\n",
    "mean_high_list = []\n",
    "mean_diff_list = []\n",
    "\n",
    "for subject in processed_df:\n",
    "    mean_both = subject[subject['key_res.corr'] == 1].groupby('2_groups')['attention_norm'].mean()\n",
    "    mean_low_list.append(mean_both['low'])\n",
    "    mean_high_list.append(mean_both['high'])\n",
    "    mean_diff_list.append(mean_both.diff()[-1])\n"
   ]
  },
  {
   "cell_type": "code",
   "execution_count": 7,
   "id": "9312bfe2",
   "metadata": {},
   "outputs": [
    {
     "data": {
      "text/plain": [
       "0.017249098178553024"
      ]
     },
     "execution_count": 7,
     "metadata": {},
     "output_type": "execute_result"
    }
   ],
   "source": [
    "non_para = wilcoxon(mean_diff_list, alternative = 'less')\n",
    "non_para.pvalue"
   ]
  },
  {
   "cell_type": "code",
   "execution_count": 8,
   "id": "999c97ea",
   "metadata": {},
   "outputs": [
    {
     "data": {
      "text/plain": [
       "0.016120002307280588"
      ]
     },
     "execution_count": 8,
     "metadata": {},
     "output_type": "execute_result"
    }
   ],
   "source": [
    "para = ttest_rel(mean_low_list, mean_high_list, alternative = 'less')\n",
    "para.pvalue"
   ]
  },
  {
   "cell_type": "code",
   "execution_count": 9,
   "id": "dc25c3bf",
   "metadata": {},
   "outputs": [
    {
     "data": {
      "text/html": [
       "<div>\n",
       "<style scoped>\n",
       "    .dataframe tbody tr th:only-of-type {\n",
       "        vertical-align: middle;\n",
       "    }\n",
       "\n",
       "    .dataframe tbody tr th {\n",
       "        vertical-align: top;\n",
       "    }\n",
       "\n",
       "    .dataframe thead th {\n",
       "        text-align: right;\n",
       "    }\n",
       "</style>\n",
       "<table border=\"1\" class=\"dataframe\">\n",
       "  <thead>\n",
       "    <tr style=\"text-align: right;\">\n",
       "      <th></th>\n",
       "      <th>p-value</th>\n",
       "    </tr>\n",
       "  </thead>\n",
       "  <tbody>\n",
       "    <tr>\n",
       "      <th>Two-sample Paired T-test</th>\n",
       "      <td>0.016120</td>\n",
       "    </tr>\n",
       "    <tr>\n",
       "      <th>Wilcoxon signed-rank test</th>\n",
       "      <td>0.017249</td>\n",
       "    </tr>\n",
       "  </tbody>\n",
       "</table>\n",
       "</div>"
      ],
      "text/plain": [
       "                            p-value\n",
       "Two-sample Paired T-test   0.016120\n",
       "Wilcoxon signed-rank test  0.017249"
      ]
     },
     "execution_count": 9,
     "metadata": {},
     "output_type": "execute_result"
    }
   ],
   "source": [
    "two_sample = pd.DataFrame({'p-value': [para.pvalue, non_para.pvalue]}, index = ['Two-sample Paired T-test', 'Wilcoxon signed-rank test'])\n",
    "two_sample"
   ]
  },
  {
   "cell_type": "code",
   "execution_count": 10,
   "id": "33ea81c2",
   "metadata": {},
   "outputs": [
    {
     "name": "stderr",
     "output_type": "stream",
     "text": [
      "/opt/conda/lib/python3.9/site-packages/seaborn/distributions.py:2557: FutureWarning: `distplot` is a deprecated function and will be removed in a future version. Please adapt your code to use either `displot` (a figure-level function with similar flexibility) or `histplot` (an axes-level function for histograms).\n",
      "  warnings.warn(msg, FutureWarning)\n"
     ]
    },
    {
     "data": {
      "text/plain": [
       "<AxesSubplot:ylabel='Density'>"
      ]
     },
     "execution_count": 10,
     "metadata": {},
     "output_type": "execute_result"
    },
    {
     "data": {
      "image/png": "[encoded data removed]",
      "text/plain": [
       "<Figure size 432x288 with 1 Axes>"
      ]
     },
     "metadata": {
      "needs_background": "light"
     },
     "output_type": "display_data"
    }
   ],
   "source": [
    "sns.distplot(x = mean_diff_list)"
   ]
  },
  {
   "cell_type": "code",
   "execution_count": 11,
   "id": "cffc537c",
   "metadata": {},
   "outputs": [
    {
     "name": "stderr",
     "output_type": "stream",
     "text": [
      "/opt/conda/lib/python3.9/site-packages/seaborn/distributions.py:2557: FutureWarning: `distplot` is a deprecated function and will be removed in a future version. Please adapt your code to use either `displot` (a figure-level function with similar flexibility) or `histplot` (an axes-level function for histograms).\n",
      "  warnings.warn(msg, FutureWarning)\n"
     ]
    },
    {
     "data": {
      "text/plain": [
       "<AxesSubplot:ylabel='Density'>"
      ]
     },
     "execution_count": 11,
     "metadata": {},
     "output_type": "execute_result"
    },
    {
     "data": {
      "image/png": "[encoded data removed]",
      "text/plain": [
       "<Figure size 432x288 with 1 Axes>"
      ]
     },
     "metadata": {
      "needs_background": "light"
     },
     "output_type": "display_data"
    }
   ],
   "source": [
    "sns.distplot(x = mean_low_list)"
   ]
  },
  {
   "cell_type": "code",
   "execution_count": 12,
   "id": "9261fa38",
   "metadata": {},
   "outputs": [
    {
     "name": "stderr",
     "output_type": "stream",
     "text": [
      "/opt/conda/lib/python3.9/site-packages/seaborn/distributions.py:2557: FutureWarning: `distplot` is a deprecated function and will be removed in a future version. Please adapt your code to use either `displot` (a figure-level function with similar flexibility) or `histplot` (an axes-level function for histograms).\n",
      "  warnings.warn(msg, FutureWarning)\n"
     ]
    },
    {
     "data": {
      "text/plain": [
       "<AxesSubplot:ylabel='Density'>"
      ]
     },
     "execution_count": 12,
     "metadata": {},
     "output_type": "execute_result"
    },
    {
     "data": {
      "image/png": "[encoded data removed]",
      "text/plain": [
       "<Figure size 432x288 with 1 Axes>"
      ]
     },
     "metadata": {
      "needs_background": "light"
     },
     "output_type": "display_data"
    }
   ],
   "source": [
    "sns.distplot(x = mean_high_list)"
   ]
  },
  {
   "cell_type": "markdown",
   "id": "c92934f0",
   "metadata": {},
   "source": [
    "# All data combined"
   ]
  },
  {
   "cell_type": "code",
   "execution_count": 13,
   "id": "ba4badef",
   "metadata": {},
   "outputs": [
    {
     "data": {
      "text/html": [
       "<div>\n",
       "<style scoped>\n",
       "    .dataframe tbody tr th:only-of-type {\n",
       "        vertical-align: middle;\n",
       "    }\n",
       "\n",
       "    .dataframe tbody tr th {\n",
       "        vertical-align: top;\n",
       "    }\n",
       "\n",
       "    .dataframe thead th {\n",
       "        text-align: right;\n",
       "    }\n",
       "</style>\n",
       "<table border=\"1\" class=\"dataframe\">\n",
       "  <thead>\n",
       "    <tr style=\"text-align: right;\">\n",
       "      <th></th>\n",
       "      <th>wordItem</th>\n",
       "      <th>key_res.corr</th>\n",
       "      <th>key_res.rt</th>\n",
       "      <th>text_started_norm</th>\n",
       "      <th>letter_started_norm</th>\n",
       "      <th>trial_end_norm</th>\n",
       "      <th>mean_attention</th>\n",
       "      <th>attention_norm</th>\n",
       "      <th>set_length</th>\n",
       "      <th>2_groups</th>\n",
       "      <th>3_groups</th>\n",
       "    </tr>\n",
       "  </thead>\n",
       "  <tbody>\n",
       "    <tr>\n",
       "      <th>0</th>\n",
       "      <td>N</td>\n",
       "      <td>1.0</td>\n",
       "      <td>9.981157</td>\n",
       "      <td>0.000000</td>\n",
       "      <td>2.497806</td>\n",
       "      <td>12.497524</td>\n",
       "      <td>37.676806</td>\n",
       "      <td>10.875050</td>\n",
       "      <td>1</td>\n",
       "      <td>low</td>\n",
       "      <td>low</td>\n",
       "    </tr>\n",
       "    <tr>\n",
       "      <th>1</th>\n",
       "      <td>SDFGH</td>\n",
       "      <td>1.0</td>\n",
       "      <td>1.304701</td>\n",
       "      <td>12.999884</td>\n",
       "      <td>15.514584</td>\n",
       "      <td>16.847637</td>\n",
       "      <td>36.746570</td>\n",
       "      <td>8.564989</td>\n",
       "      <td>5</td>\n",
       "      <td>high</td>\n",
       "      <td>high</td>\n",
       "    </tr>\n",
       "    <tr>\n",
       "      <th>2</th>\n",
       "      <td>QLKBD</td>\n",
       "      <td>1.0</td>\n",
       "      <td>1.041115</td>\n",
       "      <td>17.348536</td>\n",
       "      <td>19.847771</td>\n",
       "      <td>20.914686</td>\n",
       "      <td>73.407407</td>\n",
       "      <td>99.605128</td>\n",
       "      <td>5</td>\n",
       "      <td>high</td>\n",
       "      <td>high</td>\n",
       "    </tr>\n",
       "    <tr>\n",
       "      <th>3</th>\n",
       "      <td>MP</td>\n",
       "      <td>1.0</td>\n",
       "      <td>0.886369</td>\n",
       "      <td>25.214011</td>\n",
       "      <td>27.714839</td>\n",
       "      <td>28.631381</td>\n",
       "      <td>54.646417</td>\n",
       "      <td>53.015817</td>\n",
       "      <td>2</td>\n",
       "      <td>low</td>\n",
       "      <td>low</td>\n",
       "    </tr>\n",
       "    <tr>\n",
       "      <th>4</th>\n",
       "      <td>X</td>\n",
       "      <td>1.0</td>\n",
       "      <td>1.002368</td>\n",
       "      <td>36.633146</td>\n",
       "      <td>39.147779</td>\n",
       "      <td>40.181515</td>\n",
       "      <td>39.398739</td>\n",
       "      <td>15.151140</td>\n",
       "      <td>1</td>\n",
       "      <td>low</td>\n",
       "      <td>low</td>\n",
       "    </tr>\n",
       "    <tr>\n",
       "      <th>...</th>\n",
       "      <td>...</td>\n",
       "      <td>...</td>\n",
       "      <td>...</td>\n",
       "      <td>...</td>\n",
       "      <td>...</td>\n",
       "      <td>...</td>\n",
       "      <td>...</td>\n",
       "      <td>...</td>\n",
       "      <td>...</td>\n",
       "      <td>...</td>\n",
       "      <td>...</td>\n",
       "    </tr>\n",
       "    <tr>\n",
       "      <th>23</th>\n",
       "      <td>LSRT</td>\n",
       "      <td>1.0</td>\n",
       "      <td>0.705103</td>\n",
       "      <td>102.630426</td>\n",
       "      <td>105.130753</td>\n",
       "      <td>105.864100</td>\n",
       "      <td>83.101562</td>\n",
       "      <td>72.694767</td>\n",
       "      <td>4</td>\n",
       "      <td>high</td>\n",
       "      <td>medium</td>\n",
       "    </tr>\n",
       "    <tr>\n",
       "      <th>24</th>\n",
       "      <td>V</td>\n",
       "      <td>1.0</td>\n",
       "      <td>0.619691</td>\n",
       "      <td>106.364302</td>\n",
       "      <td>108.863961</td>\n",
       "      <td>109.513814</td>\n",
       "      <td>97.451356</td>\n",
       "      <td>100.000000</td>\n",
       "      <td>1</td>\n",
       "      <td>low</td>\n",
       "      <td>low</td>\n",
       "    </tr>\n",
       "    <tr>\n",
       "      <th>25</th>\n",
       "      <td>MRWD</td>\n",
       "      <td>1.0</td>\n",
       "      <td>0.915107</td>\n",
       "      <td>110.014398</td>\n",
       "      <td>112.514440</td>\n",
       "      <td>113.447144</td>\n",
       "      <td>44.898084</td>\n",
       "      <td>0.000000</td>\n",
       "      <td>4</td>\n",
       "      <td>high</td>\n",
       "      <td>medium</td>\n",
       "    </tr>\n",
       "    <tr>\n",
       "      <th>26</th>\n",
       "      <td>DMJ</td>\n",
       "      <td>1.0</td>\n",
       "      <td>1.034012</td>\n",
       "      <td>113.947759</td>\n",
       "      <td>116.447417</td>\n",
       "      <td>117.514428</td>\n",
       "      <td>69.252366</td>\n",
       "      <td>46.342085</td>\n",
       "      <td>3</td>\n",
       "      <td>low</td>\n",
       "      <td>low</td>\n",
       "    </tr>\n",
       "    <tr>\n",
       "      <th>27</th>\n",
       "      <td>FHRTZK</td>\n",
       "      <td>1.0</td>\n",
       "      <td>0.872881</td>\n",
       "      <td>118.014372</td>\n",
       "      <td>120.514545</td>\n",
       "      <td>121.414496</td>\n",
       "      <td>74.627543</td>\n",
       "      <td>56.570139</td>\n",
       "      <td>6</td>\n",
       "      <td>high</td>\n",
       "      <td>high</td>\n",
       "    </tr>\n",
       "  </tbody>\n",
       "</table>\n",
       "<p>744 rows × 11 columns</p>\n",
       "</div>"
      ],
      "text/plain": [
       "   wordItem  key_res.corr  key_res.rt  text_started_norm  letter_started_norm  \\\n",
       "0         N           1.0    9.981157           0.000000             2.497806   \n",
       "1     SDFGH           1.0    1.304701          12.999884            15.514584   \n",
       "2     QLKBD           1.0    1.041115          17.348536            19.847771   \n",
       "3        MP           1.0    0.886369          25.214011            27.714839   \n",
       "4         X           1.0    1.002368          36.633146            39.147779   \n",
       "..      ...           ...         ...                ...                  ...   \n",
       "23     LSRT           1.0    0.705103         102.630426           105.130753   \n",
       "24        V           1.0    0.619691         106.364302           108.863961   \n",
       "25     MRWD           1.0    0.915107         110.014398           112.514440   \n",
       "26      DMJ           1.0    1.034012         113.947759           116.447417   \n",
       "27   FHRTZK           1.0    0.872881         118.014372           120.514545   \n",
       "\n",
       "    trial_end_norm  mean_attention  attention_norm  set_length 2_groups  \\\n",
       "0        12.497524       37.676806       10.875050           1      low   \n",
       "1        16.847637       36.746570        8.564989           5     high   \n",
       "2        20.914686       73.407407       99.605128           5     high   \n",
       "3        28.631381       54.646417       53.015817           2      low   \n",
       "4        40.181515       39.398739       15.151140           1      low   \n",
       "..             ...             ...             ...         ...      ...   \n",
       "23      105.864100       83.101562       72.694767           4     high   \n",
       "24      109.513814       97.451356      100.000000           1      low   \n",
       "25      113.447144       44.898084        0.000000           4     high   \n",
       "26      117.514428       69.252366       46.342085           3      low   \n",
       "27      121.414496       74.627543       56.570139           6     high   \n",
       "\n",
       "   3_groups  \n",
       "0       low  \n",
       "1      high  \n",
       "2      high  \n",
       "3       low  \n",
       "4       low  \n",
       "..      ...  \n",
       "23   medium  \n",
       "24      low  \n",
       "25   medium  \n",
       "26      low  \n",
       "27     high  \n",
       "\n",
       "[744 rows x 11 columns]"
      ]
     },
     "execution_count": 13,
     "metadata": {},
     "output_type": "execute_result"
    }
   ],
   "source": [
    "df_final = pd.concat(processed_df)\n",
    "df_final"
   ]
  },
  {
   "cell_type": "markdown",
   "id": "f7a75db2",
   "metadata": {},
   "source": [
    "Divided into two tables with correct trials and incorrect trials."
   ]
  },
  {
   "cell_type": "code",
   "execution_count": 14,
   "id": "a9d8b6e2",
   "metadata": {},
   "outputs": [],
   "source": [
    "df_correct = df_final[df_final['key_res.corr'] == 1]\n",
    "df_incorrect = df_final[df_final['key_res.corr'] == 0]"
   ]
  },
  {
   "cell_type": "code",
   "execution_count": 15,
   "id": "9e72a626",
   "metadata": {},
   "outputs": [
    {
     "data": {
      "text/plain": [
       "1    158\n",
       "3    134\n",
       "4    133\n",
       "6    108\n",
       "5    106\n",
       "2    105\n",
       "Name: set_length, dtype: int64"
      ]
     },
     "execution_count": 15,
     "metadata": {},
     "output_type": "execute_result"
    }
   ],
   "source": [
    "df_final['set_length'].value_counts()"
   ]
  },
  {
   "cell_type": "code",
   "execution_count": 16,
   "id": "37625c97",
   "metadata": {},
   "outputs": [
    {
     "data": {
      "text/plain": [
       "1    155\n",
       "3    134\n",
       "4    131\n",
       "2    102\n",
       "5    100\n",
       "6     93\n",
       "Name: set_length, dtype: int64"
      ]
     },
     "execution_count": 16,
     "metadata": {},
     "output_type": "execute_result"
    }
   ],
   "source": [
    "df_correct['set_length'].value_counts()"
   ]
  },
  {
   "cell_type": "markdown",
   "id": "87619b43",
   "metadata": {},
   "source": [
    "Trials with set length 6 seems has more incorrect trials compares to other lengths."
   ]
  },
  {
   "cell_type": "code",
   "execution_count": 17,
   "id": "9500bff2",
   "metadata": {},
   "outputs": [
    {
     "data": {
      "text/plain": [
       "6    15\n",
       "5     6\n",
       "1     3\n",
       "2     3\n",
       "4     2\n",
       "Name: set_length, dtype: int64"
      ]
     },
     "execution_count": 17,
     "metadata": {},
     "output_type": "execute_result"
    }
   ],
   "source": [
    "df_incorrect['set_length'].value_counts()"
   ]
  },
  {
   "cell_type": "code",
   "execution_count": 18,
   "id": "469c78fb",
   "metadata": {},
   "outputs": [
    {
     "data": {
      "text/plain": [
       "<AxesSubplot:xlabel='set_length', ylabel='count'>"
      ]
     },
     "execution_count": 18,
     "metadata": {},
     "output_type": "execute_result"
    },
    {
     "data": {
      "image/png": "[encoded data removed]",
      "text/plain": [
       "<Figure size 432x288 with 1 Axes>"
      ]
     },
     "metadata": {
      "needs_background": "light"
     },
     "output_type": "display_data"
    }
   ],
   "source": [
    "sns.countplot(x = \"set_length\", data = df_incorrect)"
   ]
  },
  {
   "cell_type": "markdown",
   "id": "67086eb9",
   "metadata": {},
   "source": [
    "We will focus on correct trials for the following analysis."
   ]
  },
  {
   "cell_type": "markdown",
   "id": "195b1cb9",
   "metadata": {},
   "source": [
    "## Attention"
   ]
  },
  {
   "cell_type": "code",
   "execution_count": 19,
   "id": "1bb217be",
   "metadata": {},
   "outputs": [
    {
     "name": "stderr",
     "output_type": "stream",
     "text": [
      "/opt/conda/lib/python3.9/site-packages/seaborn/axisgrid.py:643: UserWarning: Using the boxplot function without specifying `order` is likely to produce an incorrect plot.\n",
      "  warnings.warn(warning)\n"
     ]
    },
    {
     "data": {
      "text/plain": [
       "<seaborn.axisgrid.FacetGrid at 0x7ff3e276fdf0>"
      ]
     },
     "execution_count": 19,
     "metadata": {},
     "output_type": "execute_result"
    },
    {
     "data": {
      "image/png": "[encoded data removed]",
      "text/plain": [
       "<Figure size 734.4x734.4 with 6 Axes>"
      ]
     },
     "metadata": {
      "needs_background": "light"
     },
     "output_type": "display_data"
    }
   ],
   "source": [
    "a_box = sns.FacetGrid(df_correct, row=\"set_length\", row_order = range(1, 7),\n",
    "                  height=1.7, aspect=6,)\n",
    "a_box.map(sns.boxplot, \"attention_norm\")"
   ]
  },
  {
   "cell_type": "code",
   "execution_count": 20,
   "id": "35287dbc",
   "metadata": {},
   "outputs": [
    {
     "name": "stderr",
     "output_type": "stream",
     "text": [
      "/opt/conda/lib/python3.9/site-packages/seaborn/axisgrid.py:643: UserWarning: Using the boxplot function without specifying `order` is likely to produce an incorrect plot.\n",
      "  warnings.warn(warning)\n"
     ]
    },
    {
     "data": {
      "text/plain": [
       "<seaborn.axisgrid.FacetGrid at 0x7ff3e27d3940>"
      ]
     },
     "execution_count": 20,
     "metadata": {},
     "output_type": "execute_result"
    },
    {
     "data": {
      "image/png": "[encoded data removed]",
      "text/plain": [
       "<Figure size 367.2x367.2 with 3 Axes>"
      ]
     },
     "metadata": {
      "needs_background": "light"
     },
     "output_type": "display_data"
    }
   ],
   "source": [
    "a_box3 = sns.FacetGrid(df_correct, row=\"3_groups\", row_order = ['low', 'medium', 'high'],\n",
    "                  height=1.7, aspect=3,)\n",
    "a_box3.map(sns.boxplot, \"attention_norm\")"
   ]
  },
  {
   "cell_type": "code",
   "execution_count": 21,
   "id": "16b13b94",
   "metadata": {},
   "outputs": [
    {
     "name": "stderr",
     "output_type": "stream",
     "text": [
      "/opt/conda/lib/python3.9/site-packages/seaborn/axisgrid.py:643: UserWarning: Using the boxplot function without specifying `order` is likely to produce an incorrect plot.\n",
      "  warnings.warn(warning)\n"
     ]
    },
    {
     "data": {
      "text/plain": [
       "<seaborn.axisgrid.FacetGrid at 0x7ff3e1f78700>"
      ]
     },
     "execution_count": 21,
     "metadata": {},
     "output_type": "execute_result"
    },
    {
     "data": {
      "image/png": "[encoded data removed]",
      "text/plain": [
       "<Figure size 244.8x244.8 with 2 Axes>"
      ]
     },
     "metadata": {
      "needs_background": "light"
     },
     "output_type": "display_data"
    }
   ],
   "source": [
    "a_box2 = sns.FacetGrid(df_correct, row=\"2_groups\", row_order = ['low', 'high'],\n",
    "                  height=1.7, aspect=2,)\n",
    "a_box2.map(sns.boxplot, \"attention_norm\")"
   ]
  },
  {
   "cell_type": "code",
   "execution_count": 22,
   "id": "a08a447a",
   "metadata": {},
   "outputs": [
    {
     "data": {
      "text/plain": [
       "<seaborn.axisgrid.FacetGrid at 0x7ff3e27d3fa0>"
      ]
     },
     "execution_count": 22,
     "metadata": {},
     "output_type": "execute_result"
    },
    {
     "data": {
      "image/png": "[encoded data removed]",
      "text/plain": [
       "<Figure size 420.25x360 with 1 Axes>"
      ]
     },
     "metadata": {
      "needs_background": "light"
     },
     "output_type": "display_data"
    }
   ],
   "source": [
    "sns.displot(df_correct, x=\"attention_norm\", hue=\"set_length\", kind=\"kde\")"
   ]
  },
  {
   "cell_type": "code",
   "execution_count": 23,
   "id": "5b65b50a",
   "metadata": {},
   "outputs": [
    {
     "data": {
      "text/plain": [
       "<seaborn.axisgrid.FacetGrid at 0x7ff3e1e4d220>"
      ]
     },
     "execution_count": 23,
     "metadata": {},
     "output_type": "execute_result"
    },
    {
     "data": {
      "image/png": "[encoded data removed]",
      "text/plain": [
       "<Figure size 437x360 with 1 Axes>"
      ]
     },
     "metadata": {
      "needs_background": "light"
     },
     "output_type": "display_data"
    }
   ],
   "source": [
    "sns.displot(df_correct, x=\"attention_norm\", hue=\"3_groups\", kind=\"kde\")"
   ]
  },
  {
   "cell_type": "code",
   "execution_count": 24,
   "id": "734b4c40",
   "metadata": {},
   "outputs": [
    {
     "data": {
      "text/plain": [
       "<seaborn.axisgrid.FacetGrid at 0x7ff3e1dde910>"
      ]
     },
     "execution_count": 24,
     "metadata": {},
     "output_type": "execute_result"
    },
    {
     "data": {
      "image/png": "[encoded data removed]",
      "text/plain": [
       "<Figure size 418x360 with 1 Axes>"
      ]
     },
     "metadata": {
      "needs_background": "light"
     },
     "output_type": "display_data"
    }
   ],
   "source": [
    "sns.displot(df_correct, x=\"attention_norm\", hue=\"2_groups\", kind=\"kde\")"
   ]
  },
  {
   "cell_type": "markdown",
   "id": "5f79d9c4",
   "metadata": {},
   "source": [
    "## Response time"
   ]
  },
  {
   "cell_type": "code",
   "execution_count": 25,
   "id": "528f0dc8",
   "metadata": {},
   "outputs": [
    {
     "data": {
      "text/plain": [
       "<AxesSubplot:xlabel='key_res.rt'>"
      ]
     },
     "execution_count": 25,
     "metadata": {},
     "output_type": "execute_result"
    },
    {
     "data": {
      "image/png": "[encoded data removed]",
      "text/plain": [
       "<Figure size 432x288 with 1 Axes>"
      ]
     },
     "metadata": {
      "needs_background": "light"
     },
     "output_type": "display_data"
    }
   ],
   "source": [
    "sns.boxplot(x = df_correct['key_res.rt'])"
   ]
  },
  {
   "cell_type": "markdown",
   "id": "e9962cce",
   "metadata": {},
   "source": [
    "There are outliers that affects the whole plot. A response time with larger than 2 seconds is not common and also way too long. We'll just exclude them with the following analysis."
   ]
  },
  {
   "cell_type": "code",
   "execution_count": 26,
   "id": "cef86ebd",
   "metadata": {},
   "outputs": [
    {
     "data": {
      "text/html": [
       "<div>\n",
       "<style scoped>\n",
       "    .dataframe tbody tr th:only-of-type {\n",
       "        vertical-align: middle;\n",
       "    }\n",
       "\n",
       "    .dataframe tbody tr th {\n",
       "        vertical-align: top;\n",
       "    }\n",
       "\n",
       "    .dataframe thead th {\n",
       "        text-align: right;\n",
       "    }\n",
       "</style>\n",
       "<table border=\"1\" class=\"dataframe\">\n",
       "  <thead>\n",
       "    <tr style=\"text-align: right;\">\n",
       "      <th></th>\n",
       "      <th>wordItem</th>\n",
       "      <th>key_res.corr</th>\n",
       "      <th>key_res.rt</th>\n",
       "      <th>text_started_norm</th>\n",
       "      <th>letter_started_norm</th>\n",
       "      <th>trial_end_norm</th>\n",
       "      <th>mean_attention</th>\n",
       "      <th>attention_norm</th>\n",
       "      <th>set_length</th>\n",
       "      <th>2_groups</th>\n",
       "      <th>3_groups</th>\n",
       "    </tr>\n",
       "  </thead>\n",
       "  <tbody>\n",
       "    <tr>\n",
       "      <th>1</th>\n",
       "      <td>SDFGH</td>\n",
       "      <td>1.0</td>\n",
       "      <td>1.304701</td>\n",
       "      <td>12.999884</td>\n",
       "      <td>15.514584</td>\n",
       "      <td>16.847637</td>\n",
       "      <td>36.746570</td>\n",
       "      <td>8.564989</td>\n",
       "      <td>5</td>\n",
       "      <td>high</td>\n",
       "      <td>high</td>\n",
       "    </tr>\n",
       "    <tr>\n",
       "      <th>2</th>\n",
       "      <td>QLKBD</td>\n",
       "      <td>1.0</td>\n",
       "      <td>1.041115</td>\n",
       "      <td>17.348536</td>\n",
       "      <td>19.847771</td>\n",
       "      <td>20.914686</td>\n",
       "      <td>73.407407</td>\n",
       "      <td>99.605128</td>\n",
       "      <td>5</td>\n",
       "      <td>high</td>\n",
       "      <td>high</td>\n",
       "    </tr>\n",
       "    <tr>\n",
       "      <th>3</th>\n",
       "      <td>MP</td>\n",
       "      <td>1.0</td>\n",
       "      <td>0.886369</td>\n",
       "      <td>25.214011</td>\n",
       "      <td>27.714839</td>\n",
       "      <td>28.631381</td>\n",
       "      <td>54.646417</td>\n",
       "      <td>53.015817</td>\n",
       "      <td>2</td>\n",
       "      <td>low</td>\n",
       "      <td>low</td>\n",
       "    </tr>\n",
       "    <tr>\n",
       "      <th>4</th>\n",
       "      <td>X</td>\n",
       "      <td>1.0</td>\n",
       "      <td>1.002368</td>\n",
       "      <td>36.633146</td>\n",
       "      <td>39.147779</td>\n",
       "      <td>40.181515</td>\n",
       "      <td>39.398739</td>\n",
       "      <td>15.151140</td>\n",
       "      <td>1</td>\n",
       "      <td>low</td>\n",
       "      <td>low</td>\n",
       "    </tr>\n",
       "    <tr>\n",
       "      <th>5</th>\n",
       "      <td>WZSKR</td>\n",
       "      <td>1.0</td>\n",
       "      <td>0.831372</td>\n",
       "      <td>44.731405</td>\n",
       "      <td>47.231306</td>\n",
       "      <td>48.081598</td>\n",
       "      <td>36.553822</td>\n",
       "      <td>8.086336</td>\n",
       "      <td>5</td>\n",
       "      <td>high</td>\n",
       "      <td>high</td>\n",
       "    </tr>\n",
       "    <tr>\n",
       "      <th>...</th>\n",
       "      <td>...</td>\n",
       "      <td>...</td>\n",
       "      <td>...</td>\n",
       "      <td>...</td>\n",
       "      <td>...</td>\n",
       "      <td>...</td>\n",
       "      <td>...</td>\n",
       "      <td>...</td>\n",
       "      <td>...</td>\n",
       "      <td>...</td>\n",
       "      <td>...</td>\n",
       "    </tr>\n",
       "    <tr>\n",
       "      <th>23</th>\n",
       "      <td>LSRT</td>\n",
       "      <td>1.0</td>\n",
       "      <td>0.705103</td>\n",
       "      <td>102.630426</td>\n",
       "      <td>105.130753</td>\n",
       "      <td>105.864100</td>\n",
       "      <td>83.101562</td>\n",
       "      <td>72.694767</td>\n",
       "      <td>4</td>\n",
       "      <td>high</td>\n",
       "      <td>medium</td>\n",
       "    </tr>\n",
       "    <tr>\n",
       "      <th>24</th>\n",
       "      <td>V</td>\n",
       "      <td>1.0</td>\n",
       "      <td>0.619691</td>\n",
       "      <td>106.364302</td>\n",
       "      <td>108.863961</td>\n",
       "      <td>109.513814</td>\n",
       "      <td>97.451356</td>\n",
       "      <td>100.000000</td>\n",
       "      <td>1</td>\n",
       "      <td>low</td>\n",
       "      <td>low</td>\n",
       "    </tr>\n",
       "    <tr>\n",
       "      <th>25</th>\n",
       "      <td>MRWD</td>\n",
       "      <td>1.0</td>\n",
       "      <td>0.915107</td>\n",
       "      <td>110.014398</td>\n",
       "      <td>112.514440</td>\n",
       "      <td>113.447144</td>\n",
       "      <td>44.898084</td>\n",
       "      <td>0.000000</td>\n",
       "      <td>4</td>\n",
       "      <td>high</td>\n",
       "      <td>medium</td>\n",
       "    </tr>\n",
       "    <tr>\n",
       "      <th>26</th>\n",
       "      <td>DMJ</td>\n",
       "      <td>1.0</td>\n",
       "      <td>1.034012</td>\n",
       "      <td>113.947759</td>\n",
       "      <td>116.447417</td>\n",
       "      <td>117.514428</td>\n",
       "      <td>69.252366</td>\n",
       "      <td>46.342085</td>\n",
       "      <td>3</td>\n",
       "      <td>low</td>\n",
       "      <td>low</td>\n",
       "    </tr>\n",
       "    <tr>\n",
       "      <th>27</th>\n",
       "      <td>FHRTZK</td>\n",
       "      <td>1.0</td>\n",
       "      <td>0.872881</td>\n",
       "      <td>118.014372</td>\n",
       "      <td>120.514545</td>\n",
       "      <td>121.414496</td>\n",
       "      <td>74.627543</td>\n",
       "      <td>56.570139</td>\n",
       "      <td>6</td>\n",
       "      <td>high</td>\n",
       "      <td>high</td>\n",
       "    </tr>\n",
       "  </tbody>\n",
       "</table>\n",
       "<p>703 rows × 11 columns</p>\n",
       "</div>"
      ],
      "text/plain": [
       "   wordItem  key_res.corr  key_res.rt  text_started_norm  letter_started_norm  \\\n",
       "1     SDFGH           1.0    1.304701          12.999884            15.514584   \n",
       "2     QLKBD           1.0    1.041115          17.348536            19.847771   \n",
       "3        MP           1.0    0.886369          25.214011            27.714839   \n",
       "4         X           1.0    1.002368          36.633146            39.147779   \n",
       "5     WZSKR           1.0    0.831372          44.731405            47.231306   \n",
       "..      ...           ...         ...                ...                  ...   \n",
       "23     LSRT           1.0    0.705103         102.630426           105.130753   \n",
       "24        V           1.0    0.619691         106.364302           108.863961   \n",
       "25     MRWD           1.0    0.915107         110.014398           112.514440   \n",
       "26      DMJ           1.0    1.034012         113.947759           116.447417   \n",
       "27   FHRTZK           1.0    0.872881         118.014372           120.514545   \n",
       "\n",
       "    trial_end_norm  mean_attention  attention_norm  set_length 2_groups  \\\n",
       "1        16.847637       36.746570        8.564989           5     high   \n",
       "2        20.914686       73.407407       99.605128           5     high   \n",
       "3        28.631381       54.646417       53.015817           2      low   \n",
       "4        40.181515       39.398739       15.151140           1      low   \n",
       "5        48.081598       36.553822        8.086336           5     high   \n",
       "..             ...             ...             ...         ...      ...   \n",
       "23      105.864100       83.101562       72.694767           4     high   \n",
       "24      109.513814       97.451356      100.000000           1      low   \n",
       "25      113.447144       44.898084        0.000000           4     high   \n",
       "26      117.514428       69.252366       46.342085           3      low   \n",
       "27      121.414496       74.627543       56.570139           6     high   \n",
       "\n",
       "   3_groups  \n",
       "1      high  \n",
       "2      high  \n",
       "3       low  \n",
       "4       low  \n",
       "5      high  \n",
       "..      ...  \n",
       "23   medium  \n",
       "24      low  \n",
       "25   medium  \n",
       "26      low  \n",
       "27     high  \n",
       "\n",
       "[703 rows x 11 columns]"
      ]
     },
     "execution_count": 26,
     "metadata": {},
     "output_type": "execute_result"
    }
   ],
   "source": [
    "df_correct_2 = df_correct[df_correct['key_res.rt'] <= 2]\n",
    "df_correct_2"
   ]
  },
  {
   "cell_type": "code",
   "execution_count": 27,
   "id": "8dcd6005",
   "metadata": {},
   "outputs": [
    {
     "name": "stderr",
     "output_type": "stream",
     "text": [
      "/opt/conda/lib/python3.9/site-packages/seaborn/axisgrid.py:643: UserWarning: Using the boxplot function without specifying `order` is likely to produce an incorrect plot.\n",
      "  warnings.warn(warning)\n"
     ]
    },
    {
     "data": {
      "text/plain": [
       "<seaborn.axisgrid.FacetGrid at 0x7ff3e1cedfd0>"
      ]
     },
     "execution_count": 27,
     "metadata": {},
     "output_type": "execute_result"
    },
    {
     "data": {
      "image/png": "[encoded data removed]",
      "text/plain": [
       "<Figure size 734.4x734.4 with 6 Axes>"
      ]
     },
     "metadata": {
      "needs_background": "light"
     },
     "output_type": "display_data"
    }
   ],
   "source": [
    "rt_box = sns.FacetGrid(df_correct_2, row=\"set_length\", row_order = range(1, 7),\n",
    "                  height=1.7, aspect=6,)\n",
    "rt_box.map(sns.boxplot, \"key_res.rt\")"
   ]
  },
  {
   "cell_type": "code",
   "execution_count": 28,
   "id": "d4dc9ecc",
   "metadata": {},
   "outputs": [
    {
     "name": "stderr",
     "output_type": "stream",
     "text": [
      "/opt/conda/lib/python3.9/site-packages/seaborn/axisgrid.py:643: UserWarning: Using the boxplot function without specifying `order` is likely to produce an incorrect plot.\n",
      "  warnings.warn(warning)\n"
     ]
    },
    {
     "data": {
      "text/plain": [
       "<seaborn.axisgrid.FacetGrid at 0x7ff3e1cedc10>"
      ]
     },
     "execution_count": 28,
     "metadata": {},
     "output_type": "execute_result"
    },
    {
     "data": {
      "image/png": "[encoded data removed]",
      "text/plain": [
       "<Figure size 367.2x367.2 with 3 Axes>"
      ]
     },
     "metadata": {
      "needs_background": "light"
     },
     "output_type": "display_data"
    }
   ],
   "source": [
    "rt_box3 = sns.FacetGrid(df_correct_2, row=\"3_groups\", row_order = ['low', 'medium', 'high'],\n",
    "                  height=1.7, aspect=3,)\n",
    "rt_box3.map(sns.boxplot, \"key_res.rt\")"
   ]
  },
  {
   "cell_type": "code",
   "execution_count": 29,
   "id": "a831e4cf",
   "metadata": {},
   "outputs": [
    {
     "name": "stderr",
     "output_type": "stream",
     "text": [
      "/opt/conda/lib/python3.9/site-packages/seaborn/axisgrid.py:643: UserWarning: Using the boxplot function without specifying `order` is likely to produce an incorrect plot.\n",
      "  warnings.warn(warning)\n"
     ]
    },
    {
     "data": {
      "text/plain": [
       "<seaborn.axisgrid.FacetGrid at 0x7ff3e1755ac0>"
      ]
     },
     "execution_count": 29,
     "metadata": {},
     "output_type": "execute_result"
    },
    {
     "data": {
      "image/png": "[encoded data removed]",
      "text/plain": [
       "<Figure size 244.8x244.8 with 2 Axes>"
      ]
     },
     "metadata": {
      "needs_background": "light"
     },
     "output_type": "display_data"
    }
   ],
   "source": [
    "rt_box2 = sns.FacetGrid(df_correct_2, row=\"2_groups\", row_order = ['low', 'high'],\n",
    "                  height=1.7, aspect=2,)\n",
    "rt_box2.map(sns.boxplot, \"key_res.rt\")"
   ]
  },
  {
   "cell_type": "code",
   "execution_count": 30,
   "id": "15da58b7",
   "metadata": {},
   "outputs": [
    {
     "data": {
      "text/plain": [
       "<seaborn.axisgrid.FacetGrid at 0x7ff3e1741d00>"
      ]
     },
     "execution_count": 30,
     "metadata": {},
     "output_type": "execute_result"
    },
    {
     "data": {
      "image/png": "[encoded data removed]",
      "text/plain": [
       "<Figure size 420.25x360 with 1 Axes>"
      ]
     },
     "metadata": {
      "needs_background": "light"
     },
     "output_type": "display_data"
    }
   ],
   "source": [
    "sns.displot(df_correct_2, x=\"key_res.rt\", hue=\"set_length\", kind=\"kde\")"
   ]
  },
  {
   "cell_type": "code",
   "execution_count": 31,
   "id": "b077358e",
   "metadata": {},
   "outputs": [
    {
     "data": {
      "text/plain": [
       "<seaborn.axisgrid.FacetGrid at 0x7ff3e187dcd0>"
      ]
     },
     "execution_count": 31,
     "metadata": {},
     "output_type": "execute_result"
    },
    {
     "data": {
      "image/png": "[encoded data removed]",
      "text/plain": [
       "<Figure size 437x360 with 1 Axes>"
      ]
     },
     "metadata": {
      "needs_background": "light"
     },
     "output_type": "display_data"
    }
   ],
   "source": [
    "sns.displot(df_correct_2, x=\"key_res.rt\", hue=\"3_groups\", kind=\"kde\")"
   ]
  },
  {
   "cell_type": "code",
   "execution_count": 32,
   "id": "7c43e65f",
   "metadata": {},
   "outputs": [
    {
     "data": {
      "text/plain": [
       "<seaborn.axisgrid.FacetGrid at 0x7ff3e161f130>"
      ]
     },
     "execution_count": 32,
     "metadata": {},
     "output_type": "execute_result"
    },
    {
     "data": {
      "image/png": "[encoded data removed]",
      "text/plain": [
       "<Figure size 418x360 with 1 Axes>"
      ]
     },
     "metadata": {
      "needs_background": "light"
     },
     "output_type": "display_data"
    }
   ],
   "source": [
    "sns.displot(df_correct_2, x=\"key_res.rt\", hue=\"2_groups\", kind=\"kde\")"
   ]
  },
  {
   "cell_type": "markdown",
   "id": "61bee881",
   "metadata": {},
   "source": [
    "# Anova\n",
    "The following analysis will be done in order with 6 groups (1-6), 3 groups (low & medium & high), 2 groups (low & high)."
   ]
  },
  {
   "cell_type": "markdown",
   "id": "c545ab43",
   "metadata": {},
   "source": [
    "## Attention"
   ]
  },
  {
   "cell_type": "code",
   "execution_count": 33,
   "id": "e854fd28",
   "metadata": {},
   "outputs": [],
   "source": [
    "a_att_6 = f_oneway(df_correct_2['attention_norm'][df_correct_2['set_length'] == 1],\n",
    "         df_correct_2['attention_norm'][df_correct_2['set_length'] == 2],\n",
    "         df_correct_2['attention_norm'][df_correct_2['set_length'] == 3],\n",
    "         df_correct_2['attention_norm'][df_correct_2['set_length'] == 4],\n",
    "         df_correct_2['attention_norm'][df_correct_2['set_length'] == 5],\n",
    "         df_correct_2['attention_norm'][df_correct_2['set_length'] == 6]\n",
    "        )"
   ]
  },
  {
   "cell_type": "code",
   "execution_count": 34,
   "id": "60a483ba",
   "metadata": {},
   "outputs": [],
   "source": [
    "a_att_3 = f_oneway(df_correct_2['attention_norm'][df_correct_2['set_length'] <= 2],\n",
    "         df_correct_2['attention_norm'][(df_correct_2['set_length'] >= 3) & (df_correct_2['set_length'] <= 4)],\n",
    "         df_correct_2['attention_norm'][df_correct_2['set_length'] >= 5]\n",
    "        )"
   ]
  },
  {
   "cell_type": "code",
   "execution_count": 35,
   "id": "8d151e1a",
   "metadata": {},
   "outputs": [],
   "source": [
    "a_att_2 = f_oneway(df_correct_2['attention_norm'][df_correct_2['set_length'] <= 3],\n",
    "         df_correct_2['attention_norm'][df_correct_2['set_length'] >= 4]\n",
    "        )"
   ]
  },
  {
   "cell_type": "markdown",
   "id": "0a93abab",
   "metadata": {},
   "source": [
    "## Response time"
   ]
  },
  {
   "cell_type": "code",
   "execution_count": 46,
   "id": "401b25d3",
   "metadata": {},
   "outputs": [],
   "source": [
    "a_rt_6 = f_oneway(df_correct_2['key_res.rt'][df_correct_2['set_length'] == 1],\n",
    "         df_correct_2['key_res.rt'][df_correct_2['set_length'] == 2],\n",
    "         df_correct_2['key_res.rt'][df_correct_2['set_length'] == 3],\n",
    "         df_correct_2['key_res.rt'][df_correct_2['set_length'] == 4],\n",
    "         df_correct_2['key_res.rt'][df_correct_2['set_length'] == 5],\n",
    "         df_correct_2['key_res.rt'][df_correct_2['set_length'] == 6]\n",
    "        )"
   ]
  },
  {
   "cell_type": "code",
   "execution_count": 47,
   "id": "3d424e7c",
   "metadata": {},
   "outputs": [],
   "source": [
    "a_rt_3 = f_oneway(df_correct_2['key_res.rt'][df_correct_2['set_length'] <= 2],\n",
    "         df_correct_2['key_res.rt'][(df_correct_2['set_length'] >= 3) & \n",
    "                                    (df_correct_2['set_length'] <= 4)],\n",
    "         df_correct_2['key_res.rt'][df_correct_2['set_length'] >= 5]\n",
    "        )"
   ]
  },
  {
   "cell_type": "code",
   "execution_count": 48,
   "id": "41dcd682",
   "metadata": {},
   "outputs": [],
   "source": [
    "a_rt_2 = f_oneway(df_correct_2['key_res.rt'][df_correct_2['set_length'] <= 3],\n",
    "         df_correct_2['key_res.rt'][df_correct_2['set_length'] >= 4]\n",
    "        )"
   ]
  },
  {
   "cell_type": "markdown",
   "id": "6689f1b1",
   "metadata": {},
   "source": [
    "# Kruskal\n",
    "The following analysis will be done in order with 6 groups (1-6), 3 groups (low & medium & high), 2 groups (low & high)."
   ]
  },
  {
   "cell_type": "markdown",
   "id": "f28cc269",
   "metadata": {},
   "source": [
    "## Attention"
   ]
  },
  {
   "cell_type": "code",
   "execution_count": 51,
   "id": "a99ce765",
   "metadata": {},
   "outputs": [],
   "source": [
    "k_att_6 = kruskal(df_correct_2['attention_norm'][df_correct_2['set_length'] == 1],\n",
    "         df_correct_2['attention_norm'][df_correct_2['set_length'] == 2],\n",
    "         df_correct_2['attention_norm'][df_correct_2['set_length'] == 3],\n",
    "         df_correct_2['attention_norm'][df_correct_2['set_length'] == 4],\n",
    "         df_correct_2['attention_norm'][df_correct_2['set_length'] == 5],\n",
    "         df_correct_2['attention_norm'][df_correct_2['set_length'] == 6]\n",
    "        )"
   ]
  },
  {
   "cell_type": "code",
   "execution_count": 49,
   "id": "e17515d0",
   "metadata": {},
   "outputs": [],
   "source": [
    "k_att_3 = kruskal(df_correct_2['attention_norm'][df_correct_2['set_length'] <= 2],\n",
    "         df_correct_2['attention_norm'][(df_correct_2['set_length'] >= 3) & \n",
    "                                        (df_correct_2['set_length'] <= 4)],\n",
    "         df_correct_2['attention_norm'][df_correct_2['set_length'] >= 5]\n",
    "        )"
   ]
  },
  {
   "cell_type": "code",
   "execution_count": 50,
   "id": "f681a0b1",
   "metadata": {},
   "outputs": [],
   "source": [
    "k_att_2 = kruskal(df_correct_2['attention_norm'][df_correct_2['set_length'] <= 3],\n",
    "         df_correct_2['attention_norm'][df_correct_2['set_length'] >= 4]\n",
    "        )"
   ]
  },
  {
   "cell_type": "markdown",
   "id": "40263975",
   "metadata": {},
   "source": [
    "## Response time"
   ]
  },
  {
   "cell_type": "code",
   "execution_count": 52,
   "id": "00e7ed25",
   "metadata": {},
   "outputs": [],
   "source": [
    "k_rt_6 = kruskal(df_correct_2['key_res.rt'][df_correct_2['set_length'] == 1],\n",
    "         df_correct_2['key_res.rt'][df_correct_2['set_length'] == 2],\n",
    "         df_correct_2['key_res.rt'][df_correct_2['set_length'] == 3],\n",
    "         df_correct_2['key_res.rt'][df_correct_2['set_length'] == 4],\n",
    "         df_correct_2['key_res.rt'][df_correct_2['set_length'] == 5],\n",
    "         df_correct_2['key_res.rt'][df_correct_2['set_length'] == 6]\n",
    "        )"
   ]
  },
  {
   "cell_type": "code",
   "execution_count": 53,
   "id": "66c15854",
   "metadata": {},
   "outputs": [],
   "source": [
    "k_rt_3 = kruskal(df_correct_2['key_res.rt'][df_correct_2['set_length'] <= 2],\n",
    "         df_correct_2['key_res.rt'][(df_correct_2['set_length'] >= 3) & \n",
    "                                    (df_correct_2['set_length'] <= 4)],\n",
    "         df_correct_2['key_res.rt'][df_correct_2['set_length'] >= 5]\n",
    "        )"
   ]
  },
  {
   "cell_type": "code",
   "execution_count": 54,
   "id": "84746756",
   "metadata": {},
   "outputs": [],
   "source": [
    "k_rt_2 = kruskal(df_correct_2['key_res.rt'][df_correct_2['set_length'] <= 3],\n",
    "         df_correct_2['key_res.rt'][df_correct_2['set_length'] >= 4]\n",
    "        )"
   ]
  },
  {
   "cell_type": "markdown",
   "id": "e1fb3a2c",
   "metadata": {},
   "source": [
    "# Conclustion"
   ]
  },
  {
   "cell_type": "markdown",
   "id": "3f739653",
   "metadata": {},
   "source": [
    "- Analysis on attention has over all no significant effect except for data devided into two groups (low with set_length 1-3 & high with set_length 4-6). With 2 groups, the Anova p-value for attention is 0.03741779599833731 and the Kruskal p-value for attention is 0.029390089572607983.\n",
    "- However, the two_sample paired t-test & Wilcoxon signed-rank test did show significant results with p-value 0.016120002307280588 and 0.017249098178553024.\n",
    "- Analysis on response time has over all significant result for all three grouping methods, for both Anova and Kruskal tests."
   ]
  },
  {
   "cell_type": "code",
   "execution_count": 45,
   "id": "8c598919",
   "metadata": {},
   "outputs": [
    {
     "data": {
      "text/html": [
       "<div>\n",
       "<style scoped>\n",
       "    .dataframe tbody tr th:only-of-type {\n",
       "        vertical-align: middle;\n",
       "    }\n",
       "\n",
       "    .dataframe tbody tr th {\n",
       "        vertical-align: top;\n",
       "    }\n",
       "\n",
       "    .dataframe thead th {\n",
       "        text-align: right;\n",
       "    }\n",
       "</style>\n",
       "<table border=\"1\" class=\"dataframe\">\n",
       "  <thead>\n",
       "    <tr style=\"text-align: right;\">\n",
       "      <th></th>\n",
       "      <th>p-value</th>\n",
       "    </tr>\n",
       "  </thead>\n",
       "  <tbody>\n",
       "    <tr>\n",
       "      <th>Two-sample Paired T-test</th>\n",
       "      <td>0.016120</td>\n",
       "    </tr>\n",
       "    <tr>\n",
       "      <th>Wilcoxon signed-rank test</th>\n",
       "      <td>0.017249</td>\n",
       "    </tr>\n",
       "  </tbody>\n",
       "</table>\n",
       "</div>"
      ],
      "text/plain": [
       "                            p-value\n",
       "Two-sample Paired T-test   0.016120\n",
       "Wilcoxon signed-rank test  0.017249"
      ]
     },
     "execution_count": 45,
     "metadata": {},
     "output_type": "execute_result"
    }
   ],
   "source": [
    "two_sample"
   ]
  },
  {
   "cell_type": "code",
   "execution_count": 61,
   "id": "156edc1d",
   "metadata": {
    "scrolled": true
   },
   "outputs": [
    {
     "data": {
      "text/html": [
       "<div>\n",
       "<style scoped>\n",
       "    .dataframe tbody tr th:only-of-type {\n",
       "        vertical-align: middle;\n",
       "    }\n",
       "\n",
       "    .dataframe tbody tr th {\n",
       "        vertical-align: top;\n",
       "    }\n",
       "\n",
       "    .dataframe thead th {\n",
       "        text-align: right;\n",
       "    }\n",
       "</style>\n",
       "<table border=\"1\" class=\"dataframe\">\n",
       "  <thead>\n",
       "    <tr style=\"text-align: right;\">\n",
       "      <th></th>\n",
       "      <th>Anova</th>\n",
       "      <th>Kruskal</th>\n",
       "    </tr>\n",
       "  </thead>\n",
       "  <tbody>\n",
       "    <tr>\n",
       "      <th>6 groups</th>\n",
       "      <td>0.144911</td>\n",
       "      <td>0.120028</td>\n",
       "    </tr>\n",
       "    <tr>\n",
       "      <th>3 groups</th>\n",
       "      <td>0.308068</td>\n",
       "      <td>0.325128</td>\n",
       "    </tr>\n",
       "    <tr>\n",
       "      <th>2 groups</th>\n",
       "      <td>0.037418</td>\n",
       "      <td>0.029390</td>\n",
       "    </tr>\n",
       "  </tbody>\n",
       "</table>\n",
       "</div>"
      ],
      "text/plain": [
       "             Anova   Kruskal\n",
       "6 groups  0.144911  0.120028\n",
       "3 groups  0.308068  0.325128\n",
       "2 groups  0.037418  0.029390"
      ]
     },
     "execution_count": 61,
     "metadata": {},
     "output_type": "execute_result"
    }
   ],
   "source": [
    "attention = pd.DataFrame({'Anova': [a_att_6.pvalue, a_att_3.pvalue, a_att_2.pvalue], \n",
    "                          'Kruskal': [k_att_6.pvalue, k_att_3.pvalue, k_att_2.pvalue]}, \n",
    "                         index = ['6 groups', '3 groups', '2 groups'])\n",
    "attention"
   ]
  },
  {
   "cell_type": "code",
   "execution_count": 62,
   "id": "ae6aa7e6",
   "metadata": {},
   "outputs": [
    {
     "data": {
      "text/html": [
       "<div>\n",
       "<style scoped>\n",
       "    .dataframe tbody tr th:only-of-type {\n",
       "        vertical-align: middle;\n",
       "    }\n",
       "\n",
       "    .dataframe tbody tr th {\n",
       "        vertical-align: top;\n",
       "    }\n",
       "\n",
       "    .dataframe thead th {\n",
       "        text-align: right;\n",
       "    }\n",
       "</style>\n",
       "<table border=\"1\" class=\"dataframe\">\n",
       "  <thead>\n",
       "    <tr style=\"text-align: right;\">\n",
       "      <th></th>\n",
       "      <th>Anova</th>\n",
       "      <th>Kruskal</th>\n",
       "    </tr>\n",
       "  </thead>\n",
       "  <tbody>\n",
       "    <tr>\n",
       "      <th>6 groups</th>\n",
       "      <td>1.232807e-08</td>\n",
       "      <td>6.480790e-09</td>\n",
       "    </tr>\n",
       "    <tr>\n",
       "      <th>3 groups</th>\n",
       "      <td>2.244066e-10</td>\n",
       "      <td>7.206435e-11</td>\n",
       "    </tr>\n",
       "    <tr>\n",
       "      <th>2 groups</th>\n",
       "      <td>1.136904e-06</td>\n",
       "      <td>1.495440e-07</td>\n",
       "    </tr>\n",
       "  </tbody>\n",
       "</table>\n",
       "</div>"
      ],
      "text/plain": [
       "                 Anova       Kruskal\n",
       "6 groups  1.232807e-08  6.480790e-09\n",
       "3 groups  2.244066e-10  7.206435e-11\n",
       "2 groups  1.136904e-06  1.495440e-07"
      ]
     },
     "execution_count": 62,
     "metadata": {},
     "output_type": "execute_result"
    }
   ],
   "source": [
    "response_time = pd.DataFrame({'Anova': [a_rt_6.pvalue, a_rt_3.pvalue, a_rt_2.pvalue], \n",
    "                              'Kruskal': [k_rt_6.pvalue, k_rt_3.pvalue, k_rt_2.pvalue]},\n",
    "                            index = ['6 groups', '3 groups', '2 groups'])\n",
    "response_time"
   ]
  },
  {
   "cell_type": "code",
   "execution_count": null,
   "id": "0f670d76",
   "metadata": {},
   "outputs": [],
   "source": []
  }
 ],
 "metadata": {
  "kernelspec": {
   "display_name": "Python 3 (clean)",
   "language": "python",
   "name": "python3_clean"
  },
  "language_info": {
   "codemirror_mode": {
    "name": "ipython",
    "version": 3
   },
   "file_extension": ".py",
   "mimetype": "text/x-python",
   "name": "python",
   "nbconvert_exporter": "python",
   "pygments_lexer": "ipython3",
   "version": "3.9.5"
  }
 },
 "nbformat": 4,
 "nbformat_minor": 5
}
